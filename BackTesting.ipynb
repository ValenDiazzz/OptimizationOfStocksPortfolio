{
  "cells": [
    {
      "cell_type": "code",
      "execution_count": null,
      "metadata": {
        "id": "GS7HWqQR0sY7"
      },
      "outputs": [],
      "source": [
        "!pip install yfinance"
      ]
    },
    {
      "cell_type": "code",
      "execution_count": null,
      "metadata": {
        "id": "UH-KoPAZ0pUI"
      },
      "outputs": [],
      "source": [
        "import numpy as np\n",
        "import yfinance as yf\n",
        "import pandas as pd\n",
        "import seaborn as sns\n",
        "import matplotlib.pyplot as plt\n",
        "import scipy as sc\n",
        "from ipynb.fs.full.MarkAnalysis import getReturns,Cov_mtrx,PortfolioPerformance,maxSR_data,MinVar_data,MarkPort_data,efficient_frontier\n",
        "from ipynb.fs.full.MarkAnalysis import max_SR"
      ]
    },
    {
      "cell_type": "code",
      "execution_count": 2,
      "metadata": {
        "id": "ub8jfu610pUR"
      },
      "outputs": [],
      "source": [
        "assets={\"Tech\":[\"AAPL MSFT GOOG AMZN META AVGO SAP ACN GLOB\"],\n",
        "        \"Banks\":[\"JPM BAC WFC SCHW MS GS C USB PNC\"],\n",
        "        \"Mixed\":[\"AAPL MSFT GOOG AMZN META AVGO ACN GLOB WMT\"]\n",
        "        }\n",
        "\n",
        "start=\"2022-01-01\" #140 tr days. 20 semanas. 7 bloques de 20 dias\n",
        "end=\"2022-07-26\"\n"
      ]
    },
    {
      "cell_type": "code",
      "execution_count": null,
      "metadata": {
        "id": "QgnvbzGj463J"
      },
      "outputs": [],
      "source": [
        "portfolios = {\n",
        "        \"Tech\":[\"AAPL MSFT GOOG AMZN META AVGO SAP ACN GLOB\"],\n",
        "        \"Banks\":[\"JPM BAC WFC SCHW MS GS C USB PNC\"],\n",
        "        \"Mixed\":[\"AAPL MSFT GOOG AMZN META AVGO ACN GLOB WMT\"],\n",
        "        \"Otros1\":[\"TSLA UNH XOM JNJ V NVDA LLY PG MA\"],\n",
        "        \"Otros2\":[\"HD BAC ABBV PFE KO MRK PEP COST ORCL\"],\n",
        "        \"Otros3\":[\"TMO MCD CSCO DHR TMUS ABT WFC NEE NKE\"],\n",
        "        \"Oil\":[\"SHEL CVX XOM COP TTE EQNR EPD HES\"],\n",
        "        \"Food\":[\"MCD MDLZ ADM GIS KHC HSY CMG HRL\"]\n",
        "        }\n",
        "\n",
        "[\"2020-01-01\",\"2020-07-23\"]\n",
        "[\"2020-03-01\",\"2020-09-18\"]\n",
        "[\"2020-05-01\",\"2020-11-18\"]\n",
        "[\"2020-07-01\",\"2021-01-21\"]\n",
        "[\"2020-09-01\",\"2021-03-24\"]\n",
        "[\"2020-11-01\",\"2021-05-25\"]\n",
        "[\"2021-01-01\",\"2021-07-26\"]\n",
        "[\"2021-03-01\",\"2021-09-17\"]\n",
        "[\"2021-05-01\",\"2021-11-18\"]\n",
        "[\"2021-07-01\",\"2022-01-20\"]\n",
        "[\"2021-09-01\",\"2022-03-23\"]\n",
        "[\"2021-11-01\",\"2022-05-23\"]\n",
        "[\"2022-01-01\",\"2022-07-26\"]"
      ]
    },
    {
      "cell_type": "code",
      "execution_count": 4,
      "metadata": {
        "id": "NnEViegV0pUS"
      },
      "outputs": [],
      "source": [
        "def results(data):\n",
        "    pred_returns=[]\n",
        "    real_returns=[]\n",
        "\n",
        "    for j in range(21,134,7): #Este for permite indexar al primer dia de la prediccion tomando 20 anteriores y hasta el dia 140\n",
        "        returns= data.pct_change()\n",
        "\n",
        "        #datos reales\n",
        "        weekly_returns= returns.iloc[j:j+7,:].mean() #Todas las acciones durante\n",
        "        #Prediccion\n",
        "        mean_returns=returns.iloc[j-20:j,:].mean()\n",
        "        Cov=returns.iloc[j-20:j,:].cov()\n",
        "        allocation=max_SR(mean_returns, Cov, tr_days=20)[1]\n",
        "        #Cálculo total de performance\n",
        "        pred_return_pct=PortfolioPerformance(allocation, mean_returns, Cov, 20)[0]+1\n",
        "        real_return_pct=np.prod(weekly_returns+1)\n",
        "\n",
        "        pred_returns.append(pred_return_pct)\n",
        "        real_returns.append(real_return_pct)\n",
        "\n",
        "    return pred_returns, real_returns"
      ]
    },
    {
      "cell_type": "code",
      "execution_count": 5,
      "metadata": {
        "id": "_UmEQjz_0pUT"
      },
      "outputs": [],
      "source": [
        "def week_split(data):\n",
        "    data1=data.T\n",
        "    dates=[]\n",
        "    days=[]\n",
        "    for j in range(len(data1.columns)): #Creo lista con todas las fechas\n",
        "        dates.append(str(data1.columns[j])[:10]) #Hay q agarrar hasta :10 porq después tenía la hora\n",
        "    for j in range(21, len(dates), 7):\n",
        "        days.append(dates[j])\n",
        "    return days\n"
      ]
    },
    {
      "cell_type": "code",
      "execution_count": 6,
      "metadata": {
        "id": "qgRsiKR80pUU"
      },
      "outputs": [],
      "source": [
        "def grafico(data, industry):\n",
        "    y1=np.array(results(data)[0])\n",
        "    y2=np.array(results(data)[1])\n",
        "    errores=[]\n",
        "    for j in range(len(y1)):\n",
        "        errores.append(abs(round(y1[j]-y2[j],3)*100))\n",
        "    #print(round(sum(errores)/len(errores),3))\n",
        "    y1=np.round(y1,2)\n",
        "    y2=np.round(y2,2)\n",
        "    xdates=week_split(data)\n",
        "    x1=np.linspace(1,len(xdates),len(xdates))\n",
        "    fig, ax=plt.subplots()\n",
        "    plt.style.use('dark_background')\n",
        "    plt.plot(x1,y1, color=\"darkturquoise\",label=\"Prediction\")\n",
        "    plt.plot(x1,y2, color=\"darkgray\",label=\"Real Value\")\n",
        "    plt.plot(2,0.85, color=\"white\",label=\"error= \"+str(round(sum(errores)/len(errores),3)))\n",
        "    plt.title(industry)\n",
        "    ax.set_xlabel(\"Week\")\n",
        "    ax.set_ylabel(\"Return\")\n",
        "    plt.legend()\n",
        "    plt.show()\n"
      ]
    },
    {
      "cell_type": "code",
      "execution_count": null,
      "metadata": {
        "id": "7_nxZ0F40pUW"
      },
      "outputs": [],
      "source": [
        "FullData=[]\n",
        "for industry in list(assets.keys()):\n",
        "    data= getReturns(assets[industry][0], start, end)\n",
        "    FullData.append(data)"
      ]
    },
    {
      "cell_type": "code",
      "execution_count": null,
      "metadata": {
        "id": "kSGH_TjE0pUY"
      },
      "outputs": [],
      "source": [
        "k=0\n",
        "for industry in list(assets.keys()):\n",
        "    grafico(FullData[k], industry)\n",
        "    k+=1"
      ]
    }
  ],
  "metadata": {
    "colab": {
      "provenance": []
    },
    "kernelspec": {
      "display_name": "Python 3.9.2 64-bit",
      "language": "python",
      "name": "python3"
    },
    "language_info": {
      "codemirror_mode": {
        "name": "ipython",
        "version": 3
      },
      "file_extension": ".py",
      "mimetype": "text/x-python",
      "name": "python",
      "nbconvert_exporter": "python",
      "pygments_lexer": "ipython3",
      "version": "3.11.5"
    },
    "orig_nbformat": 4,
    "vscode": {
      "interpreter": {
        "hash": "8846a69f2c50b9d72b98556550453b9650bfe7c2d38b105ef2df610ba22885fc"
      }
    }
  },
  "nbformat": 4,
  "nbformat_minor": 0
}
